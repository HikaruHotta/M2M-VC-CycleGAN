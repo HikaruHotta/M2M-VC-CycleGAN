{
 "cells": [
  {
   "cell_type": "code",
   "execution_count": 1,
   "metadata": {},
   "outputs": [],
   "source": [
    "import random\n",
    "import wave\n",
    "import os\n",
    "import pandas as pd\n",
    "from pathlib import Path"
   ]
  },
  {
   "cell_type": "code",
   "execution_count": 2,
   "metadata": {},
   "outputs": [],
   "source": [
    "MANIFESTS_DIR = Path(\"/home/clairepajot/M2M-VC-CycleGAN/manifests\")\n",
    "DATA_DIR = Path(\"/home/data\")"
   ]
  },
  {
   "cell_type": "markdown",
   "metadata": {},
   "source": [
    "### Clean VoC and Coraal Manifests"
   ]
  },
  {
   "cell_type": "code",
   "execution_count": 3,
   "metadata": {},
   "outputs": [],
   "source": [
    "coraal = pd.read_csv(MANIFESTS_DIR / \"coraal_manifest_old.csv\")\n",
    "coraal.rename(columns={\" groundtruth_text_train \": \"groundtruth_text_train\"}, inplace=True)\n",
    "coraal[\"aave\"] = 1\n",
    "# Drop rows with no groundtruth text (5/12571 rows)\n",
    "coraal.dropna(subset=['groundtruth_text_train'], inplace=True)"
   ]
  },
  {
   "cell_type": "code",
   "execution_count": 4,
   "metadata": {},
   "outputs": [],
   "source": [
    "coraal['wav_file'] = coraal['wav_file'].apply(lambda x: \"data_processed_coraal/wav/\" + x.split(\"/\")[-1])\n",
    "coraal['txt_file'] = coraal['txt_file'].apply(lambda x: \"data_processed_coraal/txt/\" + x.split(\"/\")[-1])"
   ]
  },
  {
   "cell_type": "code",
   "execution_count": 5,
   "metadata": {},
   "outputs": [
    {
     "data": {
      "text/plain": [
       "81"
      ]
     },
     "execution_count": 5,
     "metadata": {},
     "output_type": "execute_result"
    }
   ],
   "source": [
    "len(coraal['wav_file'].apply(lambda x: \"_\".join(x.split(\"/\")[-1].split(\"_\")[-8:-3])).unique())"
   ]
  },
  {
   "cell_type": "code",
   "execution_count": 6,
   "metadata": {},
   "outputs": [],
   "source": [
    "#Fixed speaker id\n",
    "coraal['speaker_id'] = coraal['wav_file'].apply(lambda x: \"_\".join(x.split(\"/\")[-1].split(\"_\")[-8:-3]))\n",
    "coraal['gender'] = coraal['wav_file'].apply(lambda x: x.split(\"/\")[-1].split(\"_\")[3])"
   ]
  },
  {
   "cell_type": "code",
   "execution_count": 7,
   "metadata": {},
   "outputs": [],
   "source": [
    "# SPELLING OUT PS4\n",
    "txt_path = DATA_DIR / coraal.loc[coraal[\"groundtruth_text_train\"].str.contains(\"4\"),\"txt_file\"].values[0]\n",
    "fixed_transcript = coraal.loc[coraal[\"groundtruth_text_train\"].str.contains(\"4\"),\"groundtruth_text_train\"].str.replace(\"4\", \" FOUR\").values[0]\n",
    "file = open(txt_path, \"w\")\n",
    "file.write(fixed_transcript) \n",
    "file.close() \n",
    "coraal.loc[coraal[\"groundtruth_text_train\"].str.contains(\"4\"),\"groundtruth_text_train\"] = fixed_transcript"
   ]
  },
  {
   "cell_type": "code",
   "execution_count": 8,
   "metadata": {},
   "outputs": [
    {
     "name": "stdout",
     "output_type": "stream",
     "text": [
      "Number of interviewees in CoRAAL:  81\n",
      "Number of female interviewees in CoRAAL:  43\n",
      "Number of male interviewees in CoRAAL:  38\n"
     ]
    }
   ],
   "source": [
    "print(\"Number of interviewees in CoRAAL: \", len(coraal[\"speaker_id\"].unique()))\n",
    "print(\"Number of female interviewees in CoRAAL: \", len(coraal[coraal[\"gender\"]==\"f\"][\"speaker_id\"].unique()))\n",
    "print(\"Number of male interviewees in CoRAAL: \", len(coraal[coraal[\"gender\"]==\"m\"][\"speaker_id\"].unique()))"
   ]
  },
  {
   "cell_type": "code",
   "execution_count": 9,
   "metadata": {},
   "outputs": [
    {
     "name": "stdout",
     "output_type": "stream",
     "text": [
      "Number of hours of CoRAAL data:  50.89041027777778\n",
      "Average number of hours per speaker in CoRAAL:  0.6282766700960218\n"
     ]
    }
   ],
   "source": [
    "print(\"Number of hours of CoRAAL data: \", coraal[\"duration\"].sum() / (60 * 60))\n",
    "print(\"Average number of hours per speaker in CoRAAL: \", coraal.groupby(\"speaker_id\").sum()[\"duration\"].mean() / (60 * 60))"
   ]
  },
  {
   "cell_type": "code",
   "execution_count": 10,
   "metadata": {},
   "outputs": [],
   "source": [
    "voc = pd.read_csv(MANIFESTS_DIR / \"voc_manifest_old.csv\")\n",
    "voc.rename(columns={\"groundtruth_text\": \"groundtruth_text_raw\", \"cleaned_text\": \"groundtruth_text_train\"}, inplace=True)\n",
    "voc[\"aave\"] = 0\n",
    "# Drop rows with no groundtruth text (22/8446 rows)\n",
    "voc.dropna(subset=['groundtruth_text_train'], inplace=True)"
   ]
  },
  {
   "cell_type": "code",
   "execution_count": 11,
   "metadata": {},
   "outputs": [],
   "source": [
    "voc[\"wav_file\"] = voc['wav_file'].apply(lambda x: \"data_processed_voc/wav/\" + x.split(\"/\")[-1])\n",
    "voc[\"txt_file\"] = voc['txt_file'].apply(lambda x: \"data_processed_voc/txt/\" + x.split(\"/\")[-1])"
   ]
  },
  {
   "cell_type": "code",
   "execution_count": 12,
   "metadata": {},
   "outputs": [],
   "source": [
    "# Remove Spenser Deardoff (transcript + wav file don't match up) 8424 -> 8348 rows\n",
    "voc = voc[voc[\"wav_file\"].str.split('_').str.get(3) != '3'] \n",
    "# Remove Eric Heryford (wav file has some silences) 8348 -> 8158 rows\n",
    "voc = voc[voc[\"wav_file\"].str.split('_').str.get(3) != '5'] "
   ]
  },
  {
   "cell_type": "code",
   "execution_count": 13,
   "metadata": {},
   "outputs": [],
   "source": [
    "# Remove high loss data points\n",
    "high_loss_examples = [\n",
    "    'data_processed_voc/wav/voc_33_part_3.wav', #Transcript: UM\n",
    "    'data_processed_voc/wav/voc_2_part_1.wav', #Transcript: UM\n",
    "    'data_processed_voc/wav/voc_12_part_198.wav', # KILL\n",
    "    'data_processed_voc/wav/voc_0_part_330.wav', #KILL\n",
    "    'data_processed_voc/wav/voc_0_part_328.wav', # Basically silent\n",
    "    'data_processed_voc/wav/voc_10_part_414.wav', # Basically silent\n",
    "    'data_processed_voc/wav/voc_10_part_404.wav', #Transcript: UM\n",
    "    'data_processed_voc/wav/voc_2_part_4.wav', #Transcript: UM YEAH SURE\n",
    "    'data_processed_voc/wav/voc_8_part_228.wav', #KILL\n",
    "    'data_processed_voc/wav/voc_26_part_207.wav', #Transcript: Incorrect\n",
    "    'data_processed_voc/wav/voc_13_part_234.wav', #Transcript: Incorrect\n",
    "    'data_processed_voc/wav/voc_12_part_185.wav', #KILL\n",
    "    'data_processed_voc/wav/voc_12_part_181.wav', #KILL\n",
    "    'data_processed_voc/wav/voc_17_part_93.wav', #KILL\n",
    "    'data_processed_voc/wav/voc_10_part_428.wav', #KILL\n",
    "    'data_processed_voc/wav/voc_11_part_80.wav' #Incorrect transcript\n",
    "]\n",
    "voc = voc[~voc[\"wav_file\"].isin(high_loss_examples)]"
   ]
  },
  {
   "cell_type": "code",
   "execution_count": 14,
   "metadata": {},
   "outputs": [],
   "source": [
    "# SPELLING OUT U2\n",
    "txt_path = DATA_DIR / voc.loc[voc[\"groundtruth_text_train\"].str.contains(\"2\"),\"txt_file\"].values[0]\n",
    "fixed_transcript = voc.loc[voc[\"groundtruth_text_train\"].str.contains(\"2\"),\"groundtruth_text_train\"].str.replace(\"2\", \" TWO\").values[0]\n",
    "file = open(txt_path, \"w\")\n",
    "file.write(fixed_transcript) \n",
    "file.close() \n",
    "voc.loc[voc[\"groundtruth_text_train\"].str.contains(\"2\"),\"groundtruth_text_train\"] = fixed_transcript\n",
    "# SPELLING OUT D7\n",
    "txt_path = DATA_DIR / voc.loc[voc[\"groundtruth_text_train\"].str.contains(\"7\"),\"txt_file\"].values[0]\n",
    "fixed_transcript = voc.loc[voc[\"groundtruth_text_train\"].str.contains(\"7\"),\"groundtruth_text_train\"].str.replace(\"7\", \" SEVEN\").values[0]\n",
    "file = open(txt_path, \"w\")\n",
    "file.write(fixed_transcript) \n",
    "file.close() \n",
    "voc.loc[voc[\"groundtruth_text_train\"].str.contains(\"7\"),\"groundtruth_text_train\"] = fixed_transcript\n",
    "# REMOVING -\n",
    "txt_path = DATA_DIR / voc.loc[voc[\"groundtruth_text_train\"].str.contains(\"-\"),\"txt_file\"].values[0]\n",
    "fixed_transcript = voc.loc[voc[\"groundtruth_text_train\"].str.contains(\"-\"),\"groundtruth_text_train\"].str.replace(\"-\", \" \").values[0]\n",
    "file = open(txt_path, \"w\")\n",
    "file.write(fixed_transcript) \n",
    "file.close() \n",
    "voc.loc[voc[\"groundtruth_text_train\"].str.contains(\"-\"),\"groundtruth_text_train\"] = fixed_transcript"
   ]
  },
  {
   "cell_type": "code",
   "execution_count": 15,
   "metadata": {},
   "outputs": [],
   "source": [
    "voc['speaker_id'] = voc['wav_file'].apply(lambda x: x.split(\"/\")[-1].split(\"_\")[1])"
   ]
  },
  {
   "cell_type": "code",
   "execution_count": 16,
   "metadata": {},
   "outputs": [
    {
     "name": "stdout",
     "output_type": "stream",
     "text": [
      "Number of interviewees in VoC:  37\n"
     ]
    }
   ],
   "source": [
    "print(\"Number of interviewees in VoC: \", len(voc[\"speaker_id\"].unique()))"
   ]
  },
  {
   "cell_type": "code",
   "execution_count": 17,
   "metadata": {},
   "outputs": [
    {
     "name": "stdout",
     "output_type": "stream",
     "text": [
      "Number of hours of VoC data:  37.041958611111106\n",
      "Average number of hours per speaker in VoC:  1.0011340165165166\n"
     ]
    }
   ],
   "source": [
    "print(\"Number of hours of VoC data: \", voc[\"duration\"].sum() / (60 * 60))\n",
    "print(\"Average number of hours per speaker in VoC: \", voc.groupby(\"speaker_id\").sum()[\"duration\"].mean() / (60 * 60))"
   ]
  },
  {
   "cell_type": "markdown",
   "metadata": {},
   "source": [
    "### Train/Dev/Test Split"
   ]
  },
  {
   "cell_type": "code",
   "execution_count": 18,
   "metadata": {},
   "outputs": [],
   "source": [
    "N_GENDER_VAL_TEST = 6\n",
    "coraal_female_speakers = coraal[coraal[\"gender\"]==\"f\"][\"speaker_id\"].unique()\n",
    "coraal_male_speakers = coraal[coraal[\"gender\"]==\"m\"][\"speaker_id\"].unique()"
   ]
  },
  {
   "cell_type": "code",
   "execution_count": 19,
   "metadata": {},
   "outputs": [],
   "source": [
    "random.seed(17)\n",
    "random.shuffle(coraal_female_speakers)\n",
    "random.shuffle(coraal_male_speakers)\n",
    "coraal[\"split\"] = \"train\"\n",
    "coraal.loc[coraal[\"speaker_id\"].isin(coraal_female_speakers[:N_GENDER_VAL_TEST]), \"split\"] =\"val\"\n",
    "coraal.loc[coraal[\"speaker_id\"].isin(coraal_female_speakers[N_GENDER_VAL_TEST:2 * N_GENDER_VAL_TEST]), \"split\"] =\"test\"\n",
    "coraal.loc[coraal[\"speaker_id\"].isin(coraal_male_speakers[:N_GENDER_VAL_TEST]), \"split\"] =\"val\"\n",
    "coraal.loc[coraal[\"speaker_id\"].isin(coraal_male_speakers[N_GENDER_VAL_TEST:2 * N_GENDER_VAL_TEST]), \"split\"] =\"test\""
   ]
  },
  {
   "cell_type": "code",
   "execution_count": 20,
   "metadata": {},
   "outputs": [
    {
     "name": "stdout",
     "output_type": "stream",
     "text": [
      "CoRAAL Train Duration:  36.801762777777775\n",
      "CoRAAL Val Duration:  6.838458333333333\n",
      "CoRAAL Test Duration:  7.250189166666666\n"
     ]
    }
   ],
   "source": [
    "print(\"CoRAAL Train Duration: \", coraal[coraal[\"split\"]==\"train\"].duration.sum() / (60 * 60))\n",
    "print(\"CoRAAL Val Duration: \", coraal[coraal[\"split\"]==\"val\"].duration.sum() / (60 * 60))\n",
    "print(\"CoRAAL Test Duration: \", coraal[coraal[\"split\"]==\"test\"].duration.sum() /(60 * 60))"
   ]
  },
  {
   "cell_type": "code",
   "execution_count": 21,
   "metadata": {},
   "outputs": [],
   "source": [
    "# All VoC data is train\n",
    "voc[\"split\"] = \"train\""
   ]
  },
  {
   "cell_type": "code",
   "execution_count": 22,
   "metadata": {},
   "outputs": [],
   "source": [
    "def get_sr(row):\n",
    "    with wave.open(str(DATA_DIR / row[\"wav_file\"]), \"rb\") as wav_file:\n",
    "        frame_rate = wav_file.getframerate()\n",
    "    return frame_rate"
   ]
  },
  {
   "cell_type": "code",
   "execution_count": 23,
   "metadata": {},
   "outputs": [
    {
     "name": "stdout",
     "output_type": "stream",
     "text": [
      "         duration  aave\n",
      "sr                     \n",
      "44100  110404.518     0\n",
      "48000   22946.533     0\n",
      "         duration   aave\n",
      "sr                      \n",
      "44100  183205.477  12566\n"
     ]
    }
   ],
   "source": [
    "# Add sample rate\n",
    "voc[\"sr\"] = voc.apply(get_sr, axis=1)\n",
    "coraal[\"sr\"] = coraal.apply(get_sr, axis=1)\n",
    "print(voc.groupby([\"sr\"]).sum())\n",
    "print(coraal.groupby([\"sr\"]).sum())"
   ]
  },
  {
   "cell_type": "code",
   "execution_count": 24,
   "metadata": {},
   "outputs": [],
   "source": [
    "coraal.to_csv(MANIFESTS_DIR / \"coraal_manifest.csv\", index=False, header=True)\n",
    "voc.to_csv(MANIFESTS_DIR / \"voc_manifest.csv\", index=False, header=True)"
   ]
  },
  {
   "cell_type": "markdown",
   "metadata": {},
   "source": [
    "### Small datasets for debugging"
   ]
  },
  {
   "cell_type": "code",
   "execution_count": 25,
   "metadata": {},
   "outputs": [],
   "source": [
    "coraal_small = coraal.sample(n=1000, random_state=22)\n",
    "coraal_small.to_csv(MANIFESTS_DIR / \"coraal_small_manifest.csv\", index=False, header=True)"
   ]
  },
  {
   "cell_type": "code",
   "execution_count": 26,
   "metadata": {},
   "outputs": [],
   "source": [
    "voc_small = voc.sample(n=1000, random_state=22)\n",
    "voc_small.to_csv(MANIFESTS_DIR / \"voc_small_manifest.csv\", index=False, header=True)"
   ]
  }
 ],
 "metadata": {
  "kernelspec": {
   "display_name": "asr",
   "language": "python",
   "name": "asr"
  },
  "language_info": {
   "codemirror_mode": {
    "name": "ipython",
    "version": 3
   },
   "file_extension": ".py",
   "mimetype": "text/x-python",
   "name": "python",
   "nbconvert_exporter": "python",
   "pygments_lexer": "ipython3",
   "version": "3.9.2"
  }
 },
 "nbformat": 4,
 "nbformat_minor": 2
}
